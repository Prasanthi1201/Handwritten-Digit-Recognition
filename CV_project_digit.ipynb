{
  "nbformat": 4,
  "nbformat_minor": 0,
  "metadata": {
    "colab": {
      "provenance": [],
      "gpuType": "T4"
    },
    "kernelspec": {
      "name": "python3",
      "display_name": "Python 3"
    },
    "language_info": {
      "name": "python"
    },
    "accelerator": "GPU",
    "gpuClass": "standard"
  },
  "cells": [
    {
      "cell_type": "code",
      "execution_count": null,
      "metadata": {
        "colab": {
          "base_uri": "https://localhost:8080/"
        },
        "id": "NinfrgwgETko",
        "outputId": "9cb75288-f9d5-495b-8551-b84f038ab64b",
        "pycharm": {
          "name": "#%%\n"
        }
      },
      "outputs": [
        {
          "output_type": "stream",
          "name": "stdout",
          "text": [
            "Drive already mounted at /content/drive; to attempt to forcibly remount, call drive.mount(\"/content/drive\", force_remount=True).\n"
          ]
        }
      ],
      "source": [
        "from google.colab import drive\n",
        "drive.mount('/content/drive')\n"
      ]
    },
    {
      "cell_type": "code",
      "source": [
        "import torch\n",
        "from torch import nn\n",
        "from torchvision import models\n",
        "from torch.utils.data import Dataset, DataLoader\n",
        "from torch.autograd import Variable\n",
        "import numpy as np\n",
        "import cv2\n",
        "import os\n",
        "import sys\n",
        "from sklearn.metrics import confusion_matrix"
      ],
      "metadata": {
        "id": "j78noLSTFsYi",
        "pycharm": {
          "name": "#%%\n"
        }
      },
      "execution_count": null,
      "outputs": []
    },
    {
      "cell_type": "code",
      "source": [
        "import torchvision.transforms as transforms\n",
        "\n",
        "def preprocess_frame(frame):\n",
        "    transform = transforms.Compose([\n",
        "        transforms.ToPILImage(),\n",
        "        transforms.Resize((112, 112)),\n",
        "        transforms.ToTensor(),\n",
        "        transforms.Normalize(mean=[0.485, 0.456, 0.406], std=[0.229, 0.224, 0.225]),\n",
        "    ])\n",
        "    preprocessed_frame = transform(frame)\n",
        "    return preprocessed_frame\n"
      ],
      "metadata": {
        "id": "eOOruEYBHd2t",
        "pycharm": {
          "name": "#%%\n"
        }
      },
      "execution_count": null,
      "outputs": []
    },
    {
      "cell_type": "code",
      "source": [
        "from google.colab import drive\n",
        "drive.mount('/content/drive')"
      ],
      "metadata": {
        "colab": {
          "base_uri": "https://localhost:8080/"
        },
        "id": "YisQOnANhLJn",
        "outputId": "55873dcc-72a7-405c-9cd7-4ae6f708f553"
      },
      "execution_count": null,
      "outputs": [
        {
          "output_type": "stream",
          "name": "stdout",
          "text": [
            "Mounted at /content/drive\n"
          ]
        }
      ]
    },
    {
      "cell_type": "code",
      "source": [
        "import cv2\n",
        "\n",
        "def extract_frames(video_path, num_frames):\n",
        "    frames = []\n",
        "    cap = cv2.VideoCapture(video_path)\n",
        "    total_frames = int(cap.get(cv2.CAP_PROP_FRAME_COUNT))\n",
        "    frame_indices = [int(i * (total_frames / num_frames)) for i in range(num_frames)]\n",
        "\n",
        "    for index in frame_indices:\n",
        "        cap.set(cv2.CAP_PROP_POS_FRAMES, index)\n",
        "        ret, frame = cap.read()\n",
        "        if ret:\n",
        "            # Preprocess the frame if needed (resize, normalize, etc.)\n",
        "            frame = preprocess_frame(frame)\n",
        "            frames.append(frame)\n",
        "\n",
        "    cap.release()\n",
        "    return frames\n"
      ],
      "metadata": {
        "id": "mUw4Oms4EWJL",
        "pycharm": {
          "name": "#%%\n"
        }
      },
      "execution_count": null,
      "outputs": []
    },
    {
      "cell_type": "code",
      "source": [
        "import matplotlib.pyplot as plt\n",
        "\n",
        "\n",
        "\n",
        "# Specify the path to the video file\n",
        "video_path = \"/content/drive/MyDrive/CVD/digits/0/V1-0001_digit31801.mov\"\n",
        "\n",
        "# Define the number of frames to extract\n",
        "num_frames = 10\n",
        "\n",
        "# Extract frames from the video\n",
        "frames = extract_frames(video_path, num_frames)\n",
        "\n",
        "# # Plot the extracted frames\n",
        "# fig, axes = plt.subplots(2, 5, figsize=(12, 6))\n",
        "# axes = axes.ravel()\n",
        "\n",
        "# for i in range(num_frames):\n",
        "#     frame = frames[i].transpose(1, 2, 0)  # Transpose the dimensions\n",
        "#     axes[i].imshow(frame)\n",
        "#     axes[i].axis(\"off\")\n",
        "\n",
        "# plt.tight_layout()\n",
        "# plt.show()\n"
      ],
      "metadata": {
        "id": "BrY35NQAP43p",
        "pycharm": {
          "name": "#%%\n"
        }
      },
      "execution_count": null,
      "outputs": []
    },
    {
      "cell_type": "code",
      "source": [
        "# Plot the extracted frames\n",
        "fig, axes = plt.subplots(2, 5, figsize=(12, 6))\n",
        "axes = axes.ravel()\n",
        "\n",
        "for i in range(num_frames):\n",
        "    frame_array = frames[i].numpy()\n",
        "    frame = frame_array.transpose((1, 2, 0))  # Transpose the dimensions\n",
        "    axes[i].imshow(frame)\n",
        "    axes[i].axis(\"off\")\n",
        "\n",
        "\n",
        "plt.tight_layout()\n",
        "plt.show()"
      ],
      "metadata": {
        "colab": {
          "base_uri": "https://localhost:8080/",
          "height": 486
        },
        "id": "IzJEudFCRUKT",
        "outputId": "0572ade4-4fba-4c8b-a501-d15d7a672816",
        "pycharm": {
          "name": "#%%\n"
        }
      },
      "execution_count": null,
      "outputs": [
        {
          "output_type": "stream",
          "name": "stderr",
          "text": [
            "WARNING:matplotlib.image:Clipping input data to the valid range for imshow with RGB data ([0..1] for floats or [0..255] for integers).\n",
            "WARNING:matplotlib.image:Clipping input data to the valid range for imshow with RGB data ([0..1] for floats or [0..255] for integers).\n",
            "WARNING:matplotlib.image:Clipping input data to the valid range for imshow with RGB data ([0..1] for floats or [0..255] for integers).\n",
            "WARNING:matplotlib.image:Clipping input data to the valid range for imshow with RGB data ([0..1] for floats or [0..255] for integers).\n",
            "WARNING:matplotlib.image:Clipping input data to the valid range for imshow with RGB data ([0..1] for floats or [0..255] for integers).\n",
            "WARNING:matplotlib.image:Clipping input data to the valid range for imshow with RGB data ([0..1] for floats or [0..255] for integers).\n",
            "WARNING:matplotlib.image:Clipping input data to the valid range for imshow with RGB data ([0..1] for floats or [0..255] for integers).\n",
            "WARNING:matplotlib.image:Clipping input data to the valid range for imshow with RGB data ([0..1] for floats or [0..255] for integers).\n",
            "WARNING:matplotlib.image:Clipping input data to the valid range for imshow with RGB data ([0..1] for floats or [0..255] for integers).\n",
            "WARNING:matplotlib.image:Clipping input data to the valid range for imshow with RGB data ([0..1] for floats or [0..255] for integers).\n"
          ]
        },
        {
          "output_type": "display_data",
          "data": {
            "text/plain": [
              "<Figure size 1200x600 with 10 Axes>"
            ],
            "image/png": "[encoded data removed]"
          },
          "metadata": {}
        }
      ]
    },
    {
      "cell_type": "code",
      "source": [
        "import os\n",
        "from torch.utils.data import Dataset\n",
        "\n",
        "class VideoDataset(Dataset):\n",
        "    def __init__(self, root_dir, num_frames):\n",
        "        self.root_dir = root_dir\n",
        "        self.num_frames = num_frames\n",
        "        self.video_paths, self.labels = self._get_video_paths_and_labels()\n",
        "\n",
        "    def __len__(self):\n",
        "        return len(self.video_paths)\n",
        "\n",
        "    def __getitem__(self, index):\n",
        "        video_path = self.video_paths[index]\n",
        "        label = self.labels[index]\n",
        "\n",
        "        frames = extract_frames(video_path, self.num_frames)\n",
        "        frames = torch.stack(frames)\n",
        "\n",
        "        return frames, label\n",
        "\n",
        "    def _get_video_paths_and_labels(self):\n",
        "        video_paths = []\n",
        "        labels = []\n",
        "        class_dirs = os.listdir(self.root_dir)\n",
        "\n",
        "        for label, class_dir in enumerate(class_dirs):\n",
        "            class_path = os.path.join(self.root_dir, class_dir)\n",
        "            if os.path.isdir(class_path):\n",
        "                video_files = os.listdir(class_path)\n",
        "                for video_file in video_files:\n",
        "                    video_path = os.path.join(class_path, video_file)\n",
        "                    video_paths.append(video_path)\n",
        "                    labels.append(label)\n",
        "\n",
        "        return video_paths, labels\n"
      ],
      "metadata": {
        "id": "IeDSTtX2Ee_O",
        "pycharm": {
          "name": "#%%\n"
        }
      },
      "execution_count": null,
      "outputs": []
    },
    {
      "cell_type": "code",
      "source": [
        "import torch\n",
        "from torch.utils.data import DataLoader\n",
        "from sklearn.model_selection import train_test_split\n",
        "\n",
        "# Define the number of frames to extract from each video\n",
        "num_frames = 20\n",
        "\n",
        "# Define the root directory of your video data\n",
        "root_dir = '/content/drive/MyDrive/CVD/digits'\n",
        "\n",
        "\n",
        "# Instantiate the dataset\n",
        "dataset = VideoDataset(root_dir, num_frames)\n",
        "\n",
        "# Perform train-test split\n",
        "train_dataset, valid_dataset = train_test_split(dataset, test_size=0.2, random_state=42)\n",
        "\n",
        "# Define batch size and number of workers for data loaders\n",
        "batch_size = 1\n",
        "num_workers = 2\n",
        "\n",
        "# Instantiate the train and validation data loaders\n",
        "train_loader = DataLoader(train_dataset, batch_size=batch_size, shuffle=True, num_workers=num_workers)\n",
        "valid_loader = DataLoader(valid_dataset, batch_size=batch_size, shuffle=False, num_workers=num_workers)\n",
        "\n",
        "\n",
        "# # Instantiate the train and validation datasets\n",
        "# train_dataset = VideoDataset(root_dir, num_frames)\n",
        "# valid_dataset = VideoDataset(root_dir, num_frames)\n"
      ],
      "metadata": {
        "id": "s4_fNtqTEnkM",
        "pycharm": {
          "name": "#%%\n"
        }
      },
      "execution_count": null,
      "outputs": []
    },
    {
      "cell_type": "code",
      "source": [
        "class VideoModel(nn.Module):\n",
        "    def __init__(\n",
        "        self, num_classes, latent_dim=2048, lstm_layers=1, hidden_dim=2048, bidirectional=False\n",
        "    ):\n",
        "        super(VideoModel, self).__init__()\n",
        "        model = models.resnext50_32x4d(pretrained=True)  # Residual Network CNN\n",
        "        self.model = nn.Sequential(*list(model.children())[:-2])\n",
        "        self.lstm = nn.LSTM(latent_dim, hidden_dim, lstm_layers, bidirectional=bidirectional)\n",
        "        self.relu = nn.LeakyReLU()\n",
        "        self.dp = nn.Dropout(0.4)\n",
        "        self.linear1 = nn.Linear(hidden_dim, num_classes)\n",
        "        self.avgpool = nn.AdaptiveAvgPool2d(1)\n",
        "\n",
        "    def forward(self, x):\n",
        "        batch_size, seq_length, c, h, w = x.shape\n",
        "        x = x.view(batch_size * seq_length, c, h, w)\n",
        "        fmap = self.model(x)\n",
        "        x = self.avgpool(fmap)\n",
        "        x = x.view(batch_size, seq_length, -1)\n",
        "        x_lstm, _ = self.lstm(x)\n",
        "        return fmap, self.dp(self.linear1(torch.mean(x_lstm, dim=1)))\n",
        "\n",
        "model = VideoModel(10).cuda()\n"
      ],
      "metadata": {
        "id": "9aHQvgl1FPgq",
        "pycharm": {
          "name": "#%%\n"
        },
        "colab": {
          "base_uri": "https://localhost:8080/"
        },
        "outputId": "c400826d-5feb-4d41-fb5e-1028e5671810"
      },
      "execution_count": null,
      "outputs": [
        {
          "output_type": "stream",
          "name": "stderr",
          "text": [
            "/usr/local/lib/python3.10/dist-packages/torchvision/models/_utils.py:208: UserWarning: The parameter 'pretrained' is deprecated since 0.13 and may be removed in the future, please use 'weights' instead.\n",
            "  warnings.warn(\n",
            "/usr/local/lib/python3.10/dist-packages/torchvision/models/_utils.py:223: UserWarning: Arguments other than a weight enum or `None` for 'weights' are deprecated since 0.13 and may be removed in the future. The current behavior is equivalent to passing `weights=ResNeXt50_32X4D_Weights.IMAGENET1K_V1`. You can also use `weights=ResNeXt50_32X4D_Weights.DEFAULT` to get the most up-to-date weights.\n",
            "  warnings.warn(msg)\n",
            "Downloading: \"https://download.pytorch.org/models/resnext50_32x4d-7cdf4587.pth\" to /root/.cache/torch/hub/checkpoints/resnext50_32x4d-7cdf4587.pth\n",
            "100%|██████████| 95.8M/95.8M [00:00<00:00, 172MB/s]\n"
          ]
        }
      ]
    },
    {
      "cell_type": "code",
      "source": [
        "\n",
        "def train_epoch(epoch, num_epochs, data_loader, model, criterion, optimizer):\n",
        "    model.train()\n",
        "    losses = AverageMeter()\n",
        "    accuracies = AverageMeter()\n",
        "\n",
        "    for i, (inputs, targets) in enumerate(data_loader):\n",
        "        if torch.cuda.is_available():\n",
        "            targets = targets.type(torch.cuda.LongTensor)\n",
        "            inputs = inputs.cuda()\n",
        "\n",
        "        _, outputs = model(inputs)\n",
        "        loss = criterion(outputs, targets.type(torch.cuda.LongTensor))\n",
        "        acc = calculate_accuracy(outputs, targets.type(torch.cuda.LongTensor))\n",
        "\n",
        "        losses.update(loss.item(), inputs.size(0))\n",
        "        accuracies.update(acc, inputs.size(0))\n",
        "\n",
        "        optimizer.zero_grad()\n",
        "        loss.backward()\n",
        "        optimizer.step()\n",
        "\n",
        "        sys.stdout.write(\n",
        "            \"\\r[Epoch %d/%d] [Batch %d/%d] [Loss: %.4f, Acc: %.2f%%]\"\n",
        "            % (\n",
        "                epoch,\n",
        "                num_epochs,\n",
        "                i,\n",
        "                len(data_loader),\n",
        "                losses.avg,\n",
        "                accuracies.avg,\n",
        "            )\n",
        "        )\n",
        "\n",
        "    return losses.avg, accuracies.avg\n",
        "\n",
        "def test(epoch, model, data_loader, criterion):\n",
        "    print('\\nTesting')\n",
        "    model.eval()\n",
        "    losses = AverageMeter()\n",
        "    accuracies = AverageMeter()\n",
        "    pred = []\n",
        "    true = []\n",
        "\n",
        "    with torch.no_grad():\n",
        "        for i, (inputs, targets) in enumerate(data_loader):\n",
        "            if torch.cuda.is_available():\n",
        "                targets = targets.cuda().type(torch.cuda.FloatTensor)\n",
        "                inputs = inputs.cuda()\n",
        "\n",
        "            _, outputs = model(inputs)\n",
        "            loss = torch.mean(criterion(outputs, targets.type(torch.cuda.LongTensor)))\n",
        "            acc = calculate_accuracy(outputs, targets.type(torch.cuda.LongTensor))\n",
        "\n",
        "            _, p = torch.max(outputs, 1)\n",
        "            true += targets.type(torch.cuda.LongTensor).detach().cpu().numpy().reshape(len(targets)).tolist()\n",
        "            pred += p.detach().cpu().numpy().reshape(len(p)).tolist()\n",
        "\n",
        "            losses.update(loss.item(), inputs.size(0))\n",
        "            accuracies.update(acc, inputs.size(0))\n",
        "\n",
        "            sys.stdout.write(\n",
        "                \"\\r[Batch %d/%d] [Loss: %.4f, Acc: %.2f%%]\"\n",
        "                % (i, len(data_loader), losses.avg, accuracies.avg)\n",
        "            )\n",
        "\n",
        "    print('\\nAccuracy: {}'.format(accuracies.avg))\n",
        "\n",
        "    return true, pred, losses.avg, accuracies.avg\n",
        "\n",
        "class AverageMeter(object):\n",
        "    \"\"\"Computes and stores the average and current value\"\"\"\n",
        "\n",
        "    def __init__(self):\n",
        "        self.reset()\n",
        "\n",
        "    def reset(self):\n",
        "        self.val = 0\n",
        "        self.avg = 0\n",
        "        self.sum = 0\n",
        "        self.count = 0\n",
        "\n",
        "    def update(self, val, n=1):\n",
        "        self.val = val\n",
        "        self.sum += val * n\n",
        "        self.count += n\n",
        "        self.avg = self.sum / self.count\n",
        "\n",
        "def calculate_accuracy(outputs, targets):\n",
        "    batch_size = targets.size(0)\n",
        "\n",
        "    _, pred = outputs.topk(1, 1, True)\n",
        "    pred = pred.t()\n",
        "    correct = pred.eq(targets.view(1, -1))\n",
        "    n_correct_elems = correct.float().sum().item()\n",
        "\n",
        "    return 100 * n_correct_elems / batch_size\n",
        "\n"
      ],
      "metadata": {
        "id": "aO6kaW0DGPPJ",
        "pycharm": {
          "name": "#%%\n"
        }
      },
      "execution_count": null,
      "outputs": []
    },
    {
      "cell_type": "code",
      "source": [
        "# Set the learning rate and number of epochs\n",
        "lr = 1e-5\n",
        "num_epochs = 20\n",
        "\n",
        "# Define the optimizer\n",
        "optimizer = torch.optim.Adam(model.parameters(), lr=lr, weight_decay=1e-3)\n",
        "\n",
        "# Define the loss criterion\n",
        "criterion = nn.CrossEntropyLoss().cuda()"
      ],
      "metadata": {
        "id": "pf9ibGcbGyvN",
        "pycharm": {
          "name": "#%%\n"
        }
      },
      "execution_count": null,
      "outputs": []
    },
    {
      "cell_type": "code",
      "source": [],
      "metadata": {
        "id": "Lr-U2Q2UVs3n",
        "pycharm": {
          "name": "#%%\n"
        }
      },
      "execution_count": null,
      "outputs": []
    },
    {
      "cell_type": "code",
      "source": [
        "import matplotlib.pyplot as plt\n",
        "\n",
        "# Lists to store training and testing metrics\n",
        "train_loss_avg = []\n",
        "train_accuracy = []\n",
        "test_loss_avg = []\n",
        "test_accuracy = []\n",
        "\n",
        "# Start training loop\n",
        "for epoch in range(1, num_epochs + 1):\n",
        "    train_loss, train_acc = train_epoch(epoch, num_epochs, train_loader, model, criterion, optimizer)\n",
        "    train_loss_avg.append(train_loss)\n",
        "    train_accuracy.append(train_acc)\n",
        "\n",
        "    true_labels, predicted_labels, test_loss, test_acc = test(epoch, model, valid_loader, criterion)\n",
        "    test_loss_avg.append(test_loss)\n",
        "    test_accuracy.append(test_acc)\n",
        "\n",
        "# Plot the metrics after each epoch\n",
        "plt.figure(figsize=(12, 4))\n",
        "plt.subplot(1, 2, 1)\n",
        "plt.plot(range(1, epoch + 1), train_loss_avg, 'b-', label='Train')\n",
        "plt.plot(range(1, epoch + 1), test_loss_avg, 'r-', label='Test')\n",
        "plt.xlabel('Epochs')\n",
        "plt.ylabel('Loss')\n",
        "plt.legend()\n",
        "\n",
        "plt.subplot(1, 2, 2)\n",
        "plt.plot(range(1, epoch + 1), train_accuracy, 'b-', label='Train')\n",
        "plt.plot(range(1, epoch + 1), test_accuracy, 'r-', label='Test')\n",
        "plt.xlabel('Epochs')\n",
        "plt.ylabel('Accuracy (%)')\n",
        "plt.legend()\n",
        "\n",
        "plt.tight_layout()\n",
        "plt.show()\n"
      ],
      "metadata": {
        "colab": {
          "base_uri": "https://localhost:8080/",
          "height": 1000
        },
        "id": "EOM6O5rQ1-uc",
        "outputId": "4111108b-d4c9-4a44-cdae-78e69d6fbf86",
        "pycharm": {
          "name": "#%%\n"
        }
      },
      "execution_count": null,
      "outputs": [
        {
          "output_type": "stream",
          "name": "stderr",
          "text": [
            "/usr/lib/python3.10/multiprocessing/popen_fork.py:66: RuntimeWarning: os.fork() was called. os.fork() is incompatible with multithreaded code, and JAX is multithreaded, so this will likely lead to a deadlock.\n",
            "  self.pid = os.fork()\n"
          ]
        },
        {
          "output_type": "stream",
          "name": "stdout",
          "text": [
            "[Epoch 1/20] [Batch 72/73] [Loss: 2.3333, Acc: 10.96%]"
          ]
        },
        {
          "output_type": "stream",
          "name": "stderr",
          "text": [
            "/usr/lib/python3.10/multiprocessing/popen_fork.py:66: RuntimeWarning: os.fork() was called. os.fork() is incompatible with multithreaded code, and JAX is multithreaded, so this will likely lead to a deadlock.\n",
            "  self.pid = os.fork()\n"
          ]
        },
        {
          "output_type": "stream",
          "name": "stdout",
          "text": [
            "\n",
            "Testing\n",
            "[Batch 18/19] [Loss: 2.3022, Acc: 15.79%]\n",
            "Accuracy: 15.789473684210526\n",
            "[Epoch 2/20] [Batch 72/73] [Loss: 2.3055, Acc: 12.33%]\n",
            "Testing\n",
            "[Batch 18/19] [Loss: 2.3271, Acc: 5.26%]\n",
            "Accuracy: 5.2631578947368425\n",
            "[Epoch 3/20] [Batch 72/73] [Loss: 2.2857, Acc: 10.96%]\n",
            "Testing\n",
            "[Batch 18/19] [Loss: 2.2967, Acc: 0.00%]\n",
            "Accuracy: 0.0\n",
            "[Epoch 4/20] [Batch 72/73] [Loss: 2.2650, Acc: 19.18%]\n",
            "Testing\n",
            "[Batch 18/19] [Loss: 2.2836, Acc: 21.05%]\n",
            "Accuracy: 21.05263157894737\n",
            "[Epoch 5/20] [Batch 72/73] [Loss: 2.2838, Acc: 9.59%]\n",
            "Testing\n",
            "[Batch 18/19] [Loss: 2.3076, Acc: 15.79%]\n",
            "Accuracy: 15.789473684210526\n",
            "[Epoch 6/20] [Batch 72/73] [Loss: 2.2441, Acc: 17.81%]\n",
            "Testing\n",
            "[Batch 18/19] [Loss: 2.3189, Acc: 5.26%]\n",
            "Accuracy: 5.2631578947368425\n",
            "[Epoch 7/20] [Batch 72/73] [Loss: 2.2550, Acc: 28.77%]\n",
            "Testing\n",
            "[Batch 18/19] [Loss: 2.2943, Acc: 21.05%]\n",
            "Accuracy: 21.05263157894737\n",
            "[Epoch 8/20] [Batch 72/73] [Loss: 2.2181, Acc: 23.29%]\n",
            "Testing\n",
            "[Batch 18/19] [Loss: 2.3057, Acc: 5.26%]\n",
            "Accuracy: 5.2631578947368425\n",
            "[Epoch 9/20] [Batch 72/73] [Loss: 2.1995, Acc: 21.92%]\n",
            "Testing\n",
            "[Batch 18/19] [Loss: 2.2742, Acc: 10.53%]\n",
            "Accuracy: 10.526315789473685\n",
            "[Epoch 10/20] [Batch 72/73] [Loss: 2.1788, Acc: 38.36%]\n",
            "Testing\n",
            "[Batch 18/19] [Loss: 2.2968, Acc: 5.26%]\n",
            "Accuracy: 5.2631578947368425\n",
            "[Epoch 11/20] [Batch 72/73] [Loss: 2.1552, Acc: 28.77%]\n",
            "Testing\n",
            "[Batch 18/19] [Loss: 2.2730, Acc: 21.05%]\n",
            "Accuracy: 21.05263157894737\n",
            "[Epoch 12/20] [Batch 72/73] [Loss: 2.0722, Acc: 35.62%]\n",
            "Testing\n",
            "[Batch 18/19] [Loss: 2.2228, Acc: 15.79%]\n",
            "Accuracy: 15.789473684210526\n",
            "[Epoch 13/20] [Batch 72/73] [Loss: 2.0253, Acc: 38.36%]\n",
            "Testing\n",
            "[Batch 18/19] [Loss: 2.2507, Acc: 21.05%]\n",
            "Accuracy: 21.05263157894737\n",
            "[Epoch 14/20] [Batch 72/73] [Loss: 1.9657, Acc: 42.47%]\n",
            "Testing\n",
            "[Batch 18/19] [Loss: 2.2314, Acc: 21.05%]\n",
            "Accuracy: 21.05263157894737\n",
            "[Epoch 15/20] [Batch 72/73] [Loss: 1.9987, Acc: 39.73%]\n",
            "Testing\n",
            "[Batch 18/19] [Loss: 2.2297, Acc: 21.05%]\n",
            "Accuracy: 21.05263157894737\n",
            "[Epoch 16/20] [Batch 72/73] [Loss: 1.8339, Acc: 50.68%]\n",
            "Testing\n",
            "[Batch 18/19] [Loss: 2.2079, Acc: 26.32%]\n",
            "Accuracy: 26.31578947368421\n",
            "[Epoch 17/20] [Batch 72/73] [Loss: 1.7922, Acc: 67.12%]\n",
            "Testing\n",
            "[Batch 18/19] [Loss: 2.1992, Acc: 21.05%]\n",
            "Accuracy: 21.05263157894737\n",
            "[Epoch 18/20] [Batch 72/73] [Loss: 1.5973, Acc: 71.23%]\n",
            "Testing\n",
            "[Batch 18/19] [Loss: 2.1332, Acc: 31.58%]\n",
            "Accuracy: 31.57894736842105\n",
            "[Epoch 19/20] [Batch 72/73] [Loss: 1.4508, Acc: 67.12%]\n",
            "Testing\n",
            "[Batch 18/19] [Loss: 2.1220, Acc: 21.05%]\n",
            "Accuracy: 21.05263157894737\n",
            "[Epoch 20/20] [Batch 72/73] [Loss: 1.3027, Acc: 78.08%]\n",
            "Testing\n",
            "[Batch 18/19] [Loss: 2.1889, Acc: 31.58%]\n",
            "Accuracy: 31.57894736842105\n"
          ]
        },
        {
          "output_type": "display_data",
          "data": {
            "text/plain": [
              "<Figure size 1200x400 with 2 Axes>"
            ],
            "image/png": "[encoded data removed]"
          },
          "metadata": {}
        }
      ]
    },
    {
      "cell_type": "code",
      "source": [
        "import torch\n",
        "import torch.nn as nn\n",
        "import torch.nn.functional as F\n",
        "import torchvision.models as models\n",
        "from torchvision.models.resnet import ResNet, BasicBlock\n",
        "from torchvision.transforms import functional as TF\n",
        "from skimage.feature import hog\n",
        "from sklearn.preprocessing import StandardScaler"
      ],
      "metadata": {
        "id": "Ly1XsC5clA2e"
      },
      "execution_count": null,
      "outputs": []
    },
    {
      "cell_type": "code",
      "source": [
        "from torchvision.models import resnet50, ResNet50_Weights"
      ],
      "metadata": {
        "id": "V1ezfXtKl5kg"
      },
      "execution_count": null,
      "outputs": []
    }
  ]
}